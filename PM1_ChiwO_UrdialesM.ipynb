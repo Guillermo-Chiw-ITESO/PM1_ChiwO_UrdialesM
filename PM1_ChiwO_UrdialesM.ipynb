{
 "cells": [
  {
   "cell_type": "markdown",
   "id": "7df84387-bf8a-4d0f-9593-9aa834970867",
   "metadata": {},
   "source": [
    "# 1.1 Título del trabajo\n",
    "\n",
    "## Objetivos\n",
    "### 1.2.1 Objetivo General\n",
    "+ Optimizar los costos y tiempos de entrega de múltiples materiales utilizados en la construcción de una casa/puente/estructura en un tiempo objetivo dado por una constructora.\n",
    "### 1.2.2 Objetivos específicos\n",
    "+ Optimizar costos dados por distintos distribuidores.\n",
    "+ Conociendo el presupuesto, buscar eficientar la construcción tomando en cuenta los plazos de entrega y costo de transporte.\n",
    "+ ASDFGH\n",
    "\n",
    "## Introducción\n",
    "Buscamos acercarnos a problemáticas diarias encontradas \n",
    "## Modelo que representa el problema"
   ]
  },
  {
   "cell_type": "code",
   "execution_count": null,
   "id": "e7974745-83b9-4583-b88e-1a2480c00d21",
   "metadata": {},
   "outputs": [],
   "source": []
  },
  {
   "cell_type": "markdown",
   "id": "444dec71-30dd-4495-aeb5-c07f59993293",
   "metadata": {},
   "source": [
    "## Solución del problema de optimización"
   ]
  },
  {
   "cell_type": "code",
   "execution_count": null,
   "id": "799cd3ba-7d7a-49df-aaba-eb58acca6c9e",
   "metadata": {},
   "outputs": [],
   "source": []
  },
  {
   "cell_type": "markdown",
   "id": "d6140b46-9bbc-4cb8-8f36-b377f38cc9b2",
   "metadata": {},
   "source": [
    "## Visualización de la solución del problema"
   ]
  },
  {
   "cell_type": "code",
   "execution_count": null,
   "id": "69dbe970-c769-4e35-941b-fdcf70db557a",
   "metadata": {},
   "outputs": [],
   "source": []
  },
  {
   "cell_type": "markdown",
   "id": "b577e825-f441-4bb9-91ae-76432202a5ef",
   "metadata": {},
   "source": [
    "## Conclusiones"
   ]
  },
  {
   "cell_type": "code",
   "execution_count": null,
   "id": "e8526733-78f2-4c92-868e-60d891848f03",
   "metadata": {},
   "outputs": [],
   "source": []
  },
  {
   "cell_type": "markdown",
   "id": "de28d912-a7ef-426a-8ea7-6f1d10b9a8c8",
   "metadata": {},
   "source": [
    "## Referencias"
   ]
  },
  {
   "cell_type": "code",
   "execution_count": null,
   "id": "f4ce5205-702b-411a-ad27-0cc69a8ec49c",
   "metadata": {},
   "outputs": [],
   "source": []
  }
 ],
 "metadata": {
  "kernelspec": {
   "display_name": "Python 3 (ipykernel)",
   "language": "python",
   "name": "python3"
  },
  "language_info": {
   "codemirror_mode": {
    "name": "ipython",
    "version": 3
   },
   "file_extension": ".py",
   "mimetype": "text/x-python",
   "name": "python",
   "nbconvert_exporter": "python",
   "pygments_lexer": "ipython3",
   "version": "3.11.4"
  }
 },
 "nbformat": 4,
 "nbformat_minor": 5
}
